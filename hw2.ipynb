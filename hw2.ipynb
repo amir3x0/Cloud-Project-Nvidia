{
  "cells": [
    {
      "cell_type": "markdown",
      "metadata": {
        "colab_type": "text",
        "id": "view-in-github"
      },
      "source": [
        "<a href=\"https://colab.research.google.com/github/amir3x0/Cloud-Project-Nvidia/blob/main/hw2.ipynb\" target=\"_parent\"><img src=\"https://colab.research.google.com/assets/colab-badge.svg\" alt=\"Open In Colab\"/></a>"
      ]
    },
    {
      "cell_type": "code",
      "execution_count": null,
      "metadata": {},
      "outputs": [],
      "source": [
        "!pip install jinja2\n",
        "!rm -rf /content/Project\n",
        "!git clone -b main https://github.com/amir3x0/Cloud-Project-Nvidia /content/Project"
      ]
    },
    {
      "cell_type": "code",
      "execution_count": null,
      "metadata": {},
      "outputs": [],
      "source": [
        "##### imports and installations #####\n",
        "!pip install nltk\n",
        "\n",
        "import nltk\n",
        "from nltk.chat.util import Chat, reflections\n",
        "\n",
        "# Download necessary NLTK data\n",
        "nltk.download('punkt')\n",
        "nltk.download('wordnet')"
      ]
    },
    {
      "cell_type": "code",
      "execution_count": null,
      "metadata": {},
      "outputs": [],
      "source": [
        "## debugging only ##\n",
        "!cd /content/Project && git pull"
      ]
    },
    {
      "cell_type": "code",
      "execution_count": null,
      "metadata": {},
      "outputs": [],
      "source": [
        "import google.colab.output as output\n",
        "from Project.utils.chatbot_patterns import patterns\n",
        "\n",
        "# Create a chatbot\n",
        "chatbot = Chat(patterns, reflections)\n",
        "\n",
        "def chat(msg):\n",
        "      response = chatbot.respond(msg)\n",
        "      return response\n",
        "\n",
        "output.register_callback(\"chat\", chat)"
      ]
    },
    {
      "cell_type": "code",
      "execution_count": null,
      "metadata": {},
      "outputs": [],
      "source": [
        "from IPython.display import HTML, Javascript, clear_output\n",
        "from jinja2 import Environment, FileSystemLoader\n",
        "\n",
        "env = Environment(loader=FileSystemLoader('/content/Project'))\n",
        "\n",
        "clear_output()\n",
        "template = env.get_template('index.html') #load page\n",
        "html = HTML(template.render().replace('style.css', 'https://amir3x0.github.io/Cloud-Project-Nvidia/style.css')) #render page\n",
        "display(Javascript('/content/Project/style.css'))\n",
        "display(html) #display after rendering page\n",
        "display(Javascript(f'/content/Project/script.js')) #load utils.js"
      ]
    }
  ],
  "metadata": {
    "colab": {
      "include_colab_link": true,
      "provenance": []
    },
    "kernelspec": {
      "display_name": "Python 3",
      "name": "python3"
    },
    "language_info": {
      "codemirror_mode": {
        "name": "ipython",
        "version": 3
      },
      "file_extension": ".py",
      "mimetype": "text/x-python",
      "name": "python",
      "nbconvert_exporter": "python",
      "pygments_lexer": "ipython3",
      "version": "3.11.7"
    }
  },
  "nbformat": 4,
  "nbformat_minor": 0
}
