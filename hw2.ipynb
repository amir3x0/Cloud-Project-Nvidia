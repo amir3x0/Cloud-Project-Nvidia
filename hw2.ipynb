{
  "cells": [
    {
      "cell_type": "markdown",
      "metadata": {
        "colab_type": "text",
        "id": "view-in-github"
      },
      "source": [
        "<a href=\"https://colab.research.google.com/github/amir3x0/Cloud-Project-Nvidia/blob/main/hw2.ipynb\" target=\"_parent\"><img src=\"https://colab.research.google.com/assets/colab-badge.svg\" alt=\"Open In Colab\"/></a>"
      ]
    },
    {
      "cell_type": "code",
      "execution_count": null,
      "metadata": {},
      "outputs": [],
      "source": [
        "import requests\n",
        "from IPython.display import HTML\n",
        "\n",
        "# The URL of your GitHub Pages site\n",
        "url = 'https://amir3x0.github.io/Cloud-Project-Nvidia/index.html'\n",
        "\n",
        "# Fetch the page content\n",
        "response = requests.get(url)\n",
        "\n",
        "# Ensure the request was successful\n",
        "if response.status_code == 200:\n",
        "    html_content = response.text\n",
        "    github_pages_css_url = \"https://amir3x0.github.io/Cloud-Project-Nvidia/style.css\"\n",
        "    html_content = html_content.replace(\"style.css\", github_pages_css_url)\n",
        "    github_pages_js_url = \"https://amir3x0.github.io/Cloud-Project-Nvidia/script.js\"\n",
        "    html_content = html_content.replace(\"script.js\", github_pages_js_url)\n",
        "\n",
        "    display(HTML(html_content))\n",
        "else:\n",
        "    print(f\"Failed to fetch the page: {response.status_code}\")"
      ]
    },
    {
      "cell_type": "code",
      "execution_count": null,
      "metadata": {
        "colab": {
          "base_uri": "https://localhost:8080/",
          "height": 1000
        },
        "id": "mIk-LPykCRwE",
        "outputId": "5929f1bf-3add-4e9d-a219-bdf19c9aeb84"
      },
      "outputs": [],
      "source": [
        "import requests\n",
        "from IPython.display import HTML\n",
        "\n",
        "# The URL of your GitHub Pages site\n",
        "url = 'https://amir3x0.github.io/Cloud-Project-Nvidia/index.html'\n",
        "\n",
        "# Fetch the page content\n",
        "response = requests.get(url)\n",
        "\n",
        "# Ensure the request was successful\n",
        "if response.status_code == 200:\n",
        "    html_content = response.text\n",
        "    github_pages_css_url = \"https://amir3x0.github.io/Cloud-Project-Nvidia/style.css\"\n",
        "    # html_content = html_content.replace(\"style.css\", github_pages_css_url)\n",
        "    html_content = html_content.replace(\"style.css\", \"style.css\")\n",
        "    github_pages_js_url = \"https://amir3x0.github.io/Cloud-Project-Nvidia/script.js\"\n",
        "    # html_content = html_content.replace(\"script.js\", github_pages_js_url)\n",
        "    html_content = html_content.replace(\"script.js\", \"script.js\")\n",
        "\n",
        "    display(HTML(html_content))\n",
        "else:\n",
        "    print(f\"Failed to fetch the page: {response.status_code}\")"
      ]
    }
  ],
  "metadata": {
    "colab": {
      "include_colab_link": true,
      "provenance": []
    },
    "kernelspec": {
      "display_name": "Python 3",
      "name": "python3"
    },
    "language_info": {
      "codemirror_mode": {
        "name": "ipython",
        "version": 3
      },
      "file_extension": ".py",
      "mimetype": "text/x-python",
      "name": "python",
      "nbconvert_exporter": "python",
      "pygments_lexer": "ipython3",
      "version": "3.11.3"
    }
  },
  "nbformat": 4,
  "nbformat_minor": 0
}
