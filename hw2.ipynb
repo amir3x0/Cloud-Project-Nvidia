{
  "cells": [
    {
      "cell_type": "markdown",
      "metadata": {
        "colab_type": "text",
        "id": "view-in-github"
      },
      "source": [
        "<a href=\"https://colab.research.google.com/github/amir3x0/Cloud-Project-Nvidia/blob/main/hw2.ipynb\" target=\"_parent\"><img src=\"https://colab.research.google.com/assets/colab-badge.svg\" alt=\"Open In Colab\"/></a>"
      ]
    },
    {
      "cell_type": "code",
      "execution_count": 5,
      "metadata": {
        "colab": {
          "base_uri": "https://localhost:8080/",
          "height": 1000
        },
        "id": "mIk-LPykCRwE",
        "outputId": "5929f1bf-3add-4e9d-a219-bdf19c9aeb84"
      },
      "outputs": [
        {
          "ename": "ModuleNotFoundError",
          "evalue": "No module named 'requests'",
          "output_type": "error",
          "traceback": [
            "\u001b[1;31m---------------------------------------------------------------------------\u001b[0m",
            "\u001b[1;31mModuleNotFoundError\u001b[0m                       Traceback (most recent call last)",
            "Cell \u001b[1;32mIn[5], line 1\u001b[0m\n\u001b[1;32m----> 1\u001b[0m \u001b[38;5;28;01mimport\u001b[39;00m \u001b[38;5;21;01mrequests\u001b[39;00m\n\u001b[0;32m      2\u001b[0m \u001b[38;5;28;01mfrom\u001b[39;00m \u001b[38;5;21;01mIPython\u001b[39;00m\u001b[38;5;21;01m.\u001b[39;00m\u001b[38;5;21;01mdisplay\u001b[39;00m \u001b[38;5;28;01mimport\u001b[39;00m HTML\n\u001b[0;32m      4\u001b[0m \u001b[38;5;66;03m# The URL of your GitHub Pages site\u001b[39;00m\n",
            "\u001b[1;31mModuleNotFoundError\u001b[0m: No module named 'requests'"
          ]
        }
      ],
      "source": [
        "import requests\n",
        "from IPython.display import HTML\n",
        "\n",
        "# The URL of your GitHub Pages site\n",
        "url = 'https://amir3x0.github.io/Cloud-Project-Nvidia/blob/search-enable-titles/index.html'\n",
        "\n",
        "# Fetch the page content\n",
        "response = requests.get(url)\n",
        "\n",
        "# Ensure the request was successful\n",
        "if response.status_code == 200:\n",
        "    html_content = response.text\n",
        "    github_pages_css_url = \"https://github.com/amir3x0/Cloud-Project-Nvidia/blob/search-enable-titles/style.css\"\n",
        "    html_content = html_content.replace(\"style.css\", github_pages_css_url)\n",
        "    github_pages_js_url = \"https://github.com/amir3x0/Cloud-Project-Nvidia/blob/search-enable-titles/script.js\"\n",
        "    html_content = html_content.replace(\"script.js\", github_pages_js_url)\n",
        "    display(HTML(html_content))\n",
        "else:\n",
        "    print(f\"Failed to fetch the page: {response.status_code}\")"
      ]
    }
  ],
  "metadata": {
    "colab": {
      "include_colab_link": true,
      "provenance": []
    },
    "kernelspec": {
      "display_name": "Python 3",
      "name": "python3"
    },
    "language_info": {
      "codemirror_mode": {
        "name": "ipython",
        "version": 3
      },
      "file_extension": ".py",
      "mimetype": "text/x-python",
      "name": "python",
      "nbconvert_exporter": "python",
      "pygments_lexer": "ipython3",
      "version": "3.12.1"
    }
  },
  "nbformat": 4,
  "nbformat_minor": 0
}
